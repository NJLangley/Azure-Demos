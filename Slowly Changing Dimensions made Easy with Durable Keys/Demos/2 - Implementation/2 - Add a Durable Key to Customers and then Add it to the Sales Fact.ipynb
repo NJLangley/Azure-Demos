{
    "metadata": {
        "kernelspec": {
            "name": "SQL",
            "display_name": "SQL",
            "language": "sql"
        },
        "language_info": {
            "name": "sql",
            "version": ""
        }
    },
    "nbformat_minor": 2,
    "nbformat": 4,
    "cells": [
        {
            "cell_type": "markdown",
            "source": [
                "# Slowly Changing Dimensions made Easy with Durable Keys - Demos\n",
                "\n",
                "This series of demo's walks through how we can add a durable key to an existing dimension, how we adjust our merge statements to keep it up to date, and how we add that durable key into the fact table to allow easy As-posted, As-is and As-was queries.\n",
                "\n",
                "- As-is – Shows data using current structure\n",
                "- As-posted – Shows data using the “historical truth”, eg. the structure at the time that data point happened\n",
                "- As-of – Shows data using structure at point in time, eg. 1st Jan 2020\n",
                "\n",
                "\n",
                "***Note***: *None of the tables are indexed as they are so small, index as appropriate in your systems!*\n",
                "\n",
                "\n",
                "## 1) Setup the demo environment by running the setup script 'Slowly Changing Dimensions made Easy with Durable Keys/Demos/1 - Setup Demo Environment.sql'\n",
                "The setup script uses dynamic data generation, and therefore aggregation results will be different each time you rebuild the demo database.\n",
                "\n",
                "## 2) Add a durable key to the product dimension"
            ],
            "metadata": {
                "azdata_cell_guid": "81e92bba-64d5-40e7-a157-5c25cbbbf169"
            }
        },
        {
            "cell_type": "code",
            "source": [
                "-- If the Db got rebuilt, the connection is reset, and this will error without breaking the rest of the notebook!\n",
                "USE DurableKeyDemo"
            ],
            "metadata": {
                "azdata_cell_guid": "83e5b7ef-e6e8-4a02-ada5-c65c0f73bfc6"
            },
            "outputs": [],
            "execution_count": 20
        },
        {
            "cell_type": "code",
            "source": [
                "USE DurableKeyDemo\n",
                "GO\n",
                "\n",
                "CREATE SEQUENCE dim.CustomerDK AS INT\n",
                "    START WITH 1 INCREMENT BY 1\n",
                "GO\n",
                "\n",
                "ALTER TABLE dim.Customer ADD CustomerDK INT NULL DEFAULT (NEXT VALUE FOR dim.CustomerDK);\n",
                "GO"
            ],
            "metadata": {
                "azdata_cell_guid": "58ff30ff-0504-4d2f-8530-c56949a0e2ac"
            },
            "outputs": [
                {
                    "output_type": "display_data",
                    "data": {
                        "text/html": "Commands completed successfully."
                    },
                    "metadata": {}
                },
                {
                    "output_type": "display_data",
                    "data": {
                        "text/html": "Commands completed successfully."
                    },
                    "metadata": {}
                },
                {
                    "output_type": "display_data",
                    "data": {
                        "text/html": "Commands completed successfully."
                    },
                    "metadata": {}
                },
                {
                    "output_type": "display_data",
                    "data": {
                        "text/html": "Total execution time: 00:00:00.059"
                    },
                    "metadata": {}
                }
            ],
            "execution_count": 21
        },
        {
            "cell_type": "markdown",
            "source": [
                "## 3) Populate the durable key for existing values\n",
                "\n",
                "We group the business keys and assign a durable key to each group using the sequence. We put this in a temp table (becuase there are limitations on where you can use the `NEXT VALUE FOR` syntax, we can't just use a CTE or sub-query), and use the temp table to update the dimension.\n",
                "\n",
                "***Note:*** *If your business keys have changed over time (eg a new source system added, etc), this may be more complex than the join on business keys below.*"
            ],
            "metadata": {
                "azdata_cell_guid": "436b0919-b37c-4b97-b7fc-3283133d321a"
            }
        },
        {
            "cell_type": "code",
            "source": [
                "SELECT *\n",
                "FROM dim.Customer;\n",
                "\n",
                "DROP TABLE IF EXISTS #customerDK;\n",
                "\n",
                "SELECT c.SourceSystem,\n",
                "       c.SourceId,\n",
                "       NEXT VALUE FOR dim.CustomerDK AS CustomerDK\n",
                "INTO #customerDK\n",
                "FROM dim.Customer AS c\n",
                "GROUP BY SourceSystem,\n",
                "         SourceId;\n",
                "\n",
                "\n",
                "UPDATE c\n",
                "SET CustomerDK = dk.CustomerDK\n",
                "FROM dim.Customer AS c\n",
                "INNER JOIN #customerDK AS dk\n",
                "  ON dk.SourceSystem = c.SourceSystem\n",
                "     AND dk.SourceId = c.SourceId;\n",
                "\n",
                "SELECT *\n",
                "FROM dim.Customer;\n",
                ""
            ],
            "metadata": {
                "azdata_cell_guid": "451bd886-a666-4504-989e-62f2b34c4d12"
            },
            "outputs": [
                {
                    "output_type": "display_data",
                    "data": {
                        "text/html": "(7 rows affected)"
                    },
                    "metadata": {}
                },
                {
                    "output_type": "display_data",
                    "data": {
                        "text/html": "(4 rows affected)"
                    },
                    "metadata": {}
                },
                {
                    "output_type": "display_data",
                    "data": {
                        "text/html": "(7 rows affected)"
                    },
                    "metadata": {}
                },
                {
                    "output_type": "display_data",
                    "data": {
                        "text/html": "(7 rows affected)"
                    },
                    "metadata": {}
                },
                {
                    "output_type": "display_data",
                    "data": {
                        "text/html": "Total execution time: 00:00:00.088"
                    },
                    "metadata": {}
                },
                {
                    "output_type": "execute_result",
                    "metadata": {},
                    "execution_count": 22,
                    "data": {
                        "application/vnd.dataresource+json": {
                            "schema": {
                                "fields": [
                                    {
                                        "name": "CustomerSK"
                                    },
                                    {
                                        "name": "SourceSystem"
                                    },
                                    {
                                        "name": "SourceId"
                                    },
                                    {
                                        "name": "CustomerName"
                                    },
                                    {
                                        "name": "CustomerEmail"
                                    },
                                    {
                                        "name": "CustomerCategory"
                                    },
                                    {
                                        "name": "ValidFromDate"
                                    },
                                    {
                                        "name": "ValidToDate"
                                    },
                                    {
                                        "name": "IsCurrentRow"
                                    },
                                    {
                                        "name": "MergeCheckSum"
                                    },
                                    {
                                        "name": "CustomerDK"
                                    }
                                ]
                            },
                            "data": [
                                {
                                    "0": "1",
                                    "1": "Trade",
                                    "2": "1",
                                    "3": "The tea shop",
                                    "4": "acounts@theteashop.co.uk",
                                    "5": "Trade - Regular",
                                    "6": "2018-02-18",
                                    "7": "2018-11-11",
                                    "8": "0",
                                    "9": "1467799504",
                                    "10": "NULL"
                                },
                                {
                                    "0": "2",
                                    "1": "Trade",
                                    "2": "1",
                                    "3": "The tea shop",
                                    "4": "acounts@theteashop.co.uk",
                                    "5": "Trade - Big Fish",
                                    "6": "2018-11-12",
                                    "7": "9999-12-31",
                                    "8": "1",
                                    "9": "-2119939865",
                                    "10": "NULL"
                                },
                                {
                                    "0": "3",
                                    "1": "Website",
                                    "2": "1",
                                    "3": "Niall Langley",
                                    "4": "niall.langley@gmail.com",
                                    "5": "New Customer",
                                    "6": "2019-04-19",
                                    "7": "2019-07-03",
                                    "8": "0",
                                    "9": "878283563",
                                    "10": "NULL"
                                },
                                {
                                    "0": "4",
                                    "1": "Website",
                                    "2": "2",
                                    "3": "Alfred",
                                    "4": "alfred@batman.com",
                                    "5": "Flavour Dabbler",
                                    "6": "2019-04-19",
                                    "7": "9999-12-31",
                                    "8": "1",
                                    "9": "-219148910",
                                    "10": "NULL"
                                },
                                {
                                    "0": "5",
                                    "1": "Website",
                                    "2": "3",
                                    "3": "Arthur Dent",
                                    "4": "arthur.dent@somewhereoutthere.com",
                                    "5": "Irregular Customer",
                                    "6": "2019-04-19",
                                    "7": "9999-12-31",
                                    "8": "1",
                                    "9": "-1177136545",
                                    "10": "NULL"
                                },
                                {
                                    "0": "6",
                                    "1": "Website",
                                    "2": "1",
                                    "3": "Niall Langley",
                                    "4": "niall.langley@gmail.com",
                                    "5": "Regular Customer",
                                    "6": "2019-07-04",
                                    "7": "2020-04-30",
                                    "8": "0",
                                    "9": "1606136978",
                                    "10": "NULL"
                                },
                                {
                                    "0": "7",
                                    "1": "Website",
                                    "2": "1",
                                    "3": "Niall Langley",
                                    "4": "niall.langley@gmail.com",
                                    "5": "Super Customer",
                                    "6": "2020-05-01",
                                    "7": "9999-12-31",
                                    "8": "1",
                                    "9": "1056696475",
                                    "10": "NULL"
                                }
                            ]
                        },
                        "text/html": "<table><tr><th>CustomerSK</th><th>SourceSystem</th><th>SourceId</th><th>CustomerName</th><th>CustomerEmail</th><th>CustomerCategory</th><th>ValidFromDate</th><th>ValidToDate</th><th>IsCurrentRow</th><th>MergeCheckSum</th><th>CustomerDK</th></tr><tr><td>1</td><td>Trade</td><td>1</td><td>The tea shop</td><td>acounts@theteashop.co.uk</td><td>Trade - Regular</td><td>2018-02-18</td><td>2018-11-11</td><td>0</td><td>1467799504</td><td>NULL</td></tr><tr><td>2</td><td>Trade</td><td>1</td><td>The tea shop</td><td>acounts@theteashop.co.uk</td><td>Trade - Big Fish</td><td>2018-11-12</td><td>9999-12-31</td><td>1</td><td>-2119939865</td><td>NULL</td></tr><tr><td>3</td><td>Website</td><td>1</td><td>Niall Langley</td><td>niall.langley@gmail.com</td><td>New Customer</td><td>2019-04-19</td><td>2019-07-03</td><td>0</td><td>878283563</td><td>NULL</td></tr><tr><td>4</td><td>Website</td><td>2</td><td>Alfred</td><td>alfred@batman.com</td><td>Flavour Dabbler</td><td>2019-04-19</td><td>9999-12-31</td><td>1</td><td>-219148910</td><td>NULL</td></tr><tr><td>5</td><td>Website</td><td>3</td><td>Arthur Dent</td><td>arthur.dent@somewhereoutthere.com</td><td>Irregular Customer</td><td>2019-04-19</td><td>9999-12-31</td><td>1</td><td>-1177136545</td><td>NULL</td></tr><tr><td>6</td><td>Website</td><td>1</td><td>Niall Langley</td><td>niall.langley@gmail.com</td><td>Regular Customer</td><td>2019-07-04</td><td>2020-04-30</td><td>0</td><td>1606136978</td><td>NULL</td></tr><tr><td>7</td><td>Website</td><td>1</td><td>Niall Langley</td><td>niall.langley@gmail.com</td><td>Super Customer</td><td>2020-05-01</td><td>9999-12-31</td><td>1</td><td>1056696475</td><td>NULL</td></tr></table>"
                    }
                },
                {
                    "output_type": "execute_result",
                    "metadata": {},
                    "execution_count": 22,
                    "data": {
                        "application/vnd.dataresource+json": {
                            "schema": {
                                "fields": [
                                    {
                                        "name": "CustomerSK"
                                    },
                                    {
                                        "name": "SourceSystem"
                                    },
                                    {
                                        "name": "SourceId"
                                    },
                                    {
                                        "name": "CustomerName"
                                    },
                                    {
                                        "name": "CustomerEmail"
                                    },
                                    {
                                        "name": "CustomerCategory"
                                    },
                                    {
                                        "name": "ValidFromDate"
                                    },
                                    {
                                        "name": "ValidToDate"
                                    },
                                    {
                                        "name": "IsCurrentRow"
                                    },
                                    {
                                        "name": "MergeCheckSum"
                                    },
                                    {
                                        "name": "CustomerDK"
                                    }
                                ]
                            },
                            "data": [
                                {
                                    "0": "1",
                                    "1": "Trade",
                                    "2": "1",
                                    "3": "The tea shop",
                                    "4": "acounts@theteashop.co.uk",
                                    "5": "Trade - Regular",
                                    "6": "2018-02-18",
                                    "7": "2018-11-11",
                                    "8": "0",
                                    "9": "1467799504",
                                    "10": "1"
                                },
                                {
                                    "0": "2",
                                    "1": "Trade",
                                    "2": "1",
                                    "3": "The tea shop",
                                    "4": "acounts@theteashop.co.uk",
                                    "5": "Trade - Big Fish",
                                    "6": "2018-11-12",
                                    "7": "9999-12-31",
                                    "8": "1",
                                    "9": "-2119939865",
                                    "10": "1"
                                },
                                {
                                    "0": "3",
                                    "1": "Website",
                                    "2": "1",
                                    "3": "Niall Langley",
                                    "4": "niall.langley@gmail.com",
                                    "5": "New Customer",
                                    "6": "2019-04-19",
                                    "7": "2019-07-03",
                                    "8": "0",
                                    "9": "878283563",
                                    "10": "2"
                                },
                                {
                                    "0": "4",
                                    "1": "Website",
                                    "2": "2",
                                    "3": "Alfred",
                                    "4": "alfred@batman.com",
                                    "5": "Flavour Dabbler",
                                    "6": "2019-04-19",
                                    "7": "9999-12-31",
                                    "8": "1",
                                    "9": "-219148910",
                                    "10": "3"
                                },
                                {
                                    "0": "5",
                                    "1": "Website",
                                    "2": "3",
                                    "3": "Arthur Dent",
                                    "4": "arthur.dent@somewhereoutthere.com",
                                    "5": "Irregular Customer",
                                    "6": "2019-04-19",
                                    "7": "9999-12-31",
                                    "8": "1",
                                    "9": "-1177136545",
                                    "10": "4"
                                },
                                {
                                    "0": "6",
                                    "1": "Website",
                                    "2": "1",
                                    "3": "Niall Langley",
                                    "4": "niall.langley@gmail.com",
                                    "5": "Regular Customer",
                                    "6": "2019-07-04",
                                    "7": "2020-04-30",
                                    "8": "0",
                                    "9": "1606136978",
                                    "10": "2"
                                },
                                {
                                    "0": "7",
                                    "1": "Website",
                                    "2": "1",
                                    "3": "Niall Langley",
                                    "4": "niall.langley@gmail.com",
                                    "5": "Super Customer",
                                    "6": "2020-05-01",
                                    "7": "9999-12-31",
                                    "8": "1",
                                    "9": "1056696475",
                                    "10": "2"
                                }
                            ]
                        },
                        "text/html": "<table><tr><th>CustomerSK</th><th>SourceSystem</th><th>SourceId</th><th>CustomerName</th><th>CustomerEmail</th><th>CustomerCategory</th><th>ValidFromDate</th><th>ValidToDate</th><th>IsCurrentRow</th><th>MergeCheckSum</th><th>CustomerDK</th></tr><tr><td>1</td><td>Trade</td><td>1</td><td>The tea shop</td><td>acounts@theteashop.co.uk</td><td>Trade - Regular</td><td>2018-02-18</td><td>2018-11-11</td><td>0</td><td>1467799504</td><td>1</td></tr><tr><td>2</td><td>Trade</td><td>1</td><td>The tea shop</td><td>acounts@theteashop.co.uk</td><td>Trade - Big Fish</td><td>2018-11-12</td><td>9999-12-31</td><td>1</td><td>-2119939865</td><td>1</td></tr><tr><td>3</td><td>Website</td><td>1</td><td>Niall Langley</td><td>niall.langley@gmail.com</td><td>New Customer</td><td>2019-04-19</td><td>2019-07-03</td><td>0</td><td>878283563</td><td>2</td></tr><tr><td>4</td><td>Website</td><td>2</td><td>Alfred</td><td>alfred@batman.com</td><td>Flavour Dabbler</td><td>2019-04-19</td><td>9999-12-31</td><td>1</td><td>-219148910</td><td>3</td></tr><tr><td>5</td><td>Website</td><td>3</td><td>Arthur Dent</td><td>arthur.dent@somewhereoutthere.com</td><td>Irregular Customer</td><td>2019-04-19</td><td>9999-12-31</td><td>1</td><td>-1177136545</td><td>4</td></tr><tr><td>6</td><td>Website</td><td>1</td><td>Niall Langley</td><td>niall.langley@gmail.com</td><td>Regular Customer</td><td>2019-07-04</td><td>2020-04-30</td><td>0</td><td>1606136978</td><td>2</td></tr><tr><td>7</td><td>Website</td><td>1</td><td>Niall Langley</td><td>niall.langley@gmail.com</td><td>Super Customer</td><td>2020-05-01</td><td>9999-12-31</td><td>1</td><td>1056696475</td><td>2</td></tr></table>"
                    }
                }
            ],
            "execution_count": 22
        },
        {
            "cell_type": "markdown",
            "source": [
                "## 4) Update the durable key column to make it not nullable"
            ],
            "metadata": {
                "azdata_cell_guid": "6cba5b90-8a16-49ab-94ea-8a5de8d4fc2c"
            }
        },
        {
            "cell_type": "code",
            "source": [
                "ALTER TABLE dim.Customer ALTER COLUMN CustomerDK INT NOT NULL;\n",
                "GO\n",
                "\n",
                "CREATE UNIQUE INDEX UQ_dim_Customer_#CustomerDK ON dim.Customer(CustomerDK)\n",
                "\tINCLUDE\t(CustomerName, CustomerEmail, CustomerCategory)\n",
                "\tWHERE (IsCurrentRow = 1)\n",
                "GO\n",
                ""
            ],
            "metadata": {
                "azdata_cell_guid": "8b925c6c-4e18-4f4d-9a95-946e94cb4a75"
            },
            "outputs": [
                {
                    "output_type": "display_data",
                    "data": {
                        "text/html": "Commands completed successfully."
                    },
                    "metadata": {}
                },
                {
                    "output_type": "display_data",
                    "data": {
                        "text/html": "Commands completed successfully."
                    },
                    "metadata": {}
                },
                {
                    "output_type": "display_data",
                    "data": {
                        "text/html": "Total execution time: 00:00:00.019"
                    },
                    "metadata": {}
                }
            ],
            "execution_count": 23
        },
        {
            "cell_type": "markdown",
            "source": [
                "## 5) Change our merge statement to add a new customer, and update and existing one\n",
                "\n",
                "- The new customer should get assigned a new durable key from the default\n",
                "- The existing customer should keep the durable key assigned to the previous record\n",
                "\n",
                "Note: For more info on the insert/merge systax used here see [this blog](https://www.mssqltips.com/sqlservertip/2883/using-the-sql-server-merge-statement-to-process-type-2-slowly-changing-dimensions/)."
            ],
            "metadata": {
                "azdata_cell_guid": "4c01e285-bf52-4741-aeee-4e142cc81eea"
            }
        },
        {
            "cell_type": "code",
            "source": [
                "SELECT *\n",
                "FROM dim.Customer;\n",
                "\n",
                "DROP TABLE IF EXISTS #customerUpdates;\n",
                "\n",
                "SELECT *,\n",
                "       CheckSum(CustomerName, CustomerEmail, CustomerCategory) AS MergeCheckSum\n",
                "INTO #customerUpdates\n",
                "FROM (VALUES \n",
                "        ('Website', 1, 'Niall Langley',     'niall.langley@gmail.com',              'Advocate'),\n",
                "        ('Website', 2, 'Alfred',            'alfred@batman.com',                    'Flavour Dabbler'),\n",
                "        ('Website', 3, 'Arthur Dent',       'arthur.dent@somewhereoutthere.com',    'Irregular Orders'),\n",
                "        ('Website', 4, 'The Queen',         'lizzy@gov.uk',                         'VIP')\n",
                "     )AS v (SourceSystem, SourceId, CustomerName, CustomerEmail, CustomerCategory)\n",
                "\n",
                "\n",
                "\n",
                "-- Use a transaction as the merge statement does seperate statements under the covers\n",
                "BEGIN TRANSACTION;\n",
                "\n",
                "INSERT INTO dim.Customer (\n",
                "    SourceSystem,\n",
                "    SourceId,\n",
                "    CustomerName,\n",
                "    CustomerEmail,\n",
                "    CustomerCategory,\n",
                "    CustomerDK                                  -- ADDED THIS LINE FOR DURABLE KEY SUPPORT\n",
                ")\n",
                "SELECT SourceSystem,\n",
                "       SourceId,\n",
                "       CustomerName,\n",
                "       CustomerEmail,\n",
                "       CustomerCategory,\n",
                "       CustomerDK                               -- ADDED THIS LINE FOR DURABLE KEY SUPPORT\n",
                "FROM (\n",
                "    MERGE dim.Customer AS t\n",
                "    USING (SELECT *\n",
                "           FROM #customerUpdates\n",
                "          )AS s\n",
                "    ON t.SourceSystem = s.SourceSystem\n",
                "       AND t.SourceId = s.SourceId\n",
                "    WHEN NOT MATCHED\n",
                "      THEN INSERT (SourceSystem, SourceId, CustomerName, CustomerEmail, CustomerCategory)\n",
                "           VALUES (SourceSystem, SourceId, CustomerName, CustomerEmail, CustomerCategory)\n",
                "    WHEN MATCHED\n",
                "         AND t.MergeCheckSum <> s.MergeCheckSum\n",
                "         AND t.IsCurrentRow = 1\n",
                "      THEN UPDATE\n",
                "           SET ValidToDate = DATEADD(DAY, -1, CAST(GETDATE() AS DATE)),\n",
                "               IsCurrentRow = 0\n",
                "    OUTPUT $action,\n",
                "           s.SourceSystem,\n",
                "           s.SourceId,\n",
                "           s.CustomerName,\n",
                "           s.CustomerEmail,\n",
                "           s.CustomerCategory,\n",
                "           INSERTED.CustomerDK                  -- ADDED THIS LINE FOR DURABLE KEY SUPPORT\n",
                ") AS changes (\n",
                "    MergeAction,\n",
                "    SourceSystem,\n",
                "    SourceId,\n",
                "    CustomerName,\n",
                "    CustomerEmail,\n",
                "    CustomerCategory,\n",
                "    CustomerDK                                  -- ADDED THIS LINE FOR DURABLE KEY SUPPORT\n",
                ")\n",
                "WHERE MergeAction = 'UPDATE';\n",
                "\n",
                "COMMIT\n",
                "\n",
                "\n",
                "SELECT *\n",
                "FROM dim.Customer;"
            ],
            "metadata": {
                "azdata_cell_guid": "e61cff15-1cd9-424e-9007-162727f27ad6"
            },
            "outputs": [
                {
                    "output_type": "display_data",
                    "data": {
                        "text/html": "(7 rows affected)"
                    },
                    "metadata": {}
                },
                {
                    "output_type": "display_data",
                    "data": {
                        "text/html": "(4 rows affected)"
                    },
                    "metadata": {}
                },
                {
                    "output_type": "display_data",
                    "data": {
                        "text/html": "(2 rows affected)"
                    },
                    "metadata": {}
                },
                {
                    "output_type": "display_data",
                    "data": {
                        "text/html": "(10 rows affected)"
                    },
                    "metadata": {}
                },
                {
                    "output_type": "display_data",
                    "data": {
                        "text/html": "Total execution time: 00:00:00.163"
                    },
                    "metadata": {}
                },
                {
                    "output_type": "execute_result",
                    "metadata": {},
                    "execution_count": 24,
                    "data": {
                        "application/vnd.dataresource+json": {
                            "schema": {
                                "fields": [
                                    {
                                        "name": "CustomerSK"
                                    },
                                    {
                                        "name": "SourceSystem"
                                    },
                                    {
                                        "name": "SourceId"
                                    },
                                    {
                                        "name": "CustomerName"
                                    },
                                    {
                                        "name": "CustomerEmail"
                                    },
                                    {
                                        "name": "CustomerCategory"
                                    },
                                    {
                                        "name": "ValidFromDate"
                                    },
                                    {
                                        "name": "ValidToDate"
                                    },
                                    {
                                        "name": "IsCurrentRow"
                                    },
                                    {
                                        "name": "MergeCheckSum"
                                    },
                                    {
                                        "name": "CustomerDK"
                                    }
                                ]
                            },
                            "data": [
                                {
                                    "0": "1",
                                    "1": "Trade",
                                    "2": "1",
                                    "3": "The tea shop",
                                    "4": "acounts@theteashop.co.uk",
                                    "5": "Trade - Regular",
                                    "6": "2018-02-18",
                                    "7": "2018-11-11",
                                    "8": "0",
                                    "9": "1467799504",
                                    "10": "1"
                                },
                                {
                                    "0": "2",
                                    "1": "Trade",
                                    "2": "1",
                                    "3": "The tea shop",
                                    "4": "acounts@theteashop.co.uk",
                                    "5": "Trade - Big Fish",
                                    "6": "2018-11-12",
                                    "7": "9999-12-31",
                                    "8": "1",
                                    "9": "-2119939865",
                                    "10": "1"
                                },
                                {
                                    "0": "3",
                                    "1": "Website",
                                    "2": "1",
                                    "3": "Niall Langley",
                                    "4": "niall.langley@gmail.com",
                                    "5": "New Customer",
                                    "6": "2019-04-19",
                                    "7": "2019-07-03",
                                    "8": "0",
                                    "9": "878283563",
                                    "10": "2"
                                },
                                {
                                    "0": "4",
                                    "1": "Website",
                                    "2": "2",
                                    "3": "Alfred",
                                    "4": "alfred@batman.com",
                                    "5": "Flavour Dabbler",
                                    "6": "2019-04-19",
                                    "7": "9999-12-31",
                                    "8": "1",
                                    "9": "-219148910",
                                    "10": "3"
                                },
                                {
                                    "0": "5",
                                    "1": "Website",
                                    "2": "3",
                                    "3": "Arthur Dent",
                                    "4": "arthur.dent@somewhereoutthere.com",
                                    "5": "Irregular Customer",
                                    "6": "2019-04-19",
                                    "7": "9999-12-31",
                                    "8": "1",
                                    "9": "-1177136545",
                                    "10": "4"
                                },
                                {
                                    "0": "6",
                                    "1": "Website",
                                    "2": "1",
                                    "3": "Niall Langley",
                                    "4": "niall.langley@gmail.com",
                                    "5": "Regular Customer",
                                    "6": "2019-07-04",
                                    "7": "2020-04-30",
                                    "8": "0",
                                    "9": "1606136978",
                                    "10": "2"
                                },
                                {
                                    "0": "7",
                                    "1": "Website",
                                    "2": "1",
                                    "3": "Niall Langley",
                                    "4": "niall.langley@gmail.com",
                                    "5": "Super Customer",
                                    "6": "2020-05-01",
                                    "7": "9999-12-31",
                                    "8": "1",
                                    "9": "1056696475",
                                    "10": "2"
                                }
                            ]
                        },
                        "text/html": "<table><tr><th>CustomerSK</th><th>SourceSystem</th><th>SourceId</th><th>CustomerName</th><th>CustomerEmail</th><th>CustomerCategory</th><th>ValidFromDate</th><th>ValidToDate</th><th>IsCurrentRow</th><th>MergeCheckSum</th><th>CustomerDK</th></tr><tr><td>1</td><td>Trade</td><td>1</td><td>The tea shop</td><td>acounts@theteashop.co.uk</td><td>Trade - Regular</td><td>2018-02-18</td><td>2018-11-11</td><td>0</td><td>1467799504</td><td>1</td></tr><tr><td>2</td><td>Trade</td><td>1</td><td>The tea shop</td><td>acounts@theteashop.co.uk</td><td>Trade - Big Fish</td><td>2018-11-12</td><td>9999-12-31</td><td>1</td><td>-2119939865</td><td>1</td></tr><tr><td>3</td><td>Website</td><td>1</td><td>Niall Langley</td><td>niall.langley@gmail.com</td><td>New Customer</td><td>2019-04-19</td><td>2019-07-03</td><td>0</td><td>878283563</td><td>2</td></tr><tr><td>4</td><td>Website</td><td>2</td><td>Alfred</td><td>alfred@batman.com</td><td>Flavour Dabbler</td><td>2019-04-19</td><td>9999-12-31</td><td>1</td><td>-219148910</td><td>3</td></tr><tr><td>5</td><td>Website</td><td>3</td><td>Arthur Dent</td><td>arthur.dent@somewhereoutthere.com</td><td>Irregular Customer</td><td>2019-04-19</td><td>9999-12-31</td><td>1</td><td>-1177136545</td><td>4</td></tr><tr><td>6</td><td>Website</td><td>1</td><td>Niall Langley</td><td>niall.langley@gmail.com</td><td>Regular Customer</td><td>2019-07-04</td><td>2020-04-30</td><td>0</td><td>1606136978</td><td>2</td></tr><tr><td>7</td><td>Website</td><td>1</td><td>Niall Langley</td><td>niall.langley@gmail.com</td><td>Super Customer</td><td>2020-05-01</td><td>9999-12-31</td><td>1</td><td>1056696475</td><td>2</td></tr></table>"
                    }
                },
                {
                    "output_type": "execute_result",
                    "metadata": {},
                    "execution_count": 24,
                    "data": {
                        "application/vnd.dataresource+json": {
                            "schema": {
                                "fields": [
                                    {
                                        "name": "CustomerSK"
                                    },
                                    {
                                        "name": "SourceSystem"
                                    },
                                    {
                                        "name": "SourceId"
                                    },
                                    {
                                        "name": "CustomerName"
                                    },
                                    {
                                        "name": "CustomerEmail"
                                    },
                                    {
                                        "name": "CustomerCategory"
                                    },
                                    {
                                        "name": "ValidFromDate"
                                    },
                                    {
                                        "name": "ValidToDate"
                                    },
                                    {
                                        "name": "IsCurrentRow"
                                    },
                                    {
                                        "name": "MergeCheckSum"
                                    },
                                    {
                                        "name": "CustomerDK"
                                    }
                                ]
                            },
                            "data": [
                                {
                                    "0": "1",
                                    "1": "Trade",
                                    "2": "1",
                                    "3": "The tea shop",
                                    "4": "acounts@theteashop.co.uk",
                                    "5": "Trade - Regular",
                                    "6": "2018-02-18",
                                    "7": "2018-11-11",
                                    "8": "0",
                                    "9": "1467799504",
                                    "10": "1"
                                },
                                {
                                    "0": "2",
                                    "1": "Trade",
                                    "2": "1",
                                    "3": "The tea shop",
                                    "4": "acounts@theteashop.co.uk",
                                    "5": "Trade - Big Fish",
                                    "6": "2018-11-12",
                                    "7": "9999-12-31",
                                    "8": "1",
                                    "9": "-2119939865",
                                    "10": "1"
                                },
                                {
                                    "0": "3",
                                    "1": "Website",
                                    "2": "1",
                                    "3": "Niall Langley",
                                    "4": "niall.langley@gmail.com",
                                    "5": "New Customer",
                                    "6": "2019-04-19",
                                    "7": "2019-07-03",
                                    "8": "0",
                                    "9": "878283563",
                                    "10": "2"
                                },
                                {
                                    "0": "4",
                                    "1": "Website",
                                    "2": "2",
                                    "3": "Alfred",
                                    "4": "alfred@batman.com",
                                    "5": "Flavour Dabbler",
                                    "6": "2019-04-19",
                                    "7": "9999-12-31",
                                    "8": "1",
                                    "9": "-219148910",
                                    "10": "3"
                                },
                                {
                                    "0": "5",
                                    "1": "Website",
                                    "2": "3",
                                    "3": "Arthur Dent",
                                    "4": "arthur.dent@somewhereoutthere.com",
                                    "5": "Irregular Customer",
                                    "6": "2019-04-19",
                                    "7": "2020-09-06",
                                    "8": "0",
                                    "9": "-1177136545",
                                    "10": "4"
                                },
                                {
                                    "0": "6",
                                    "1": "Website",
                                    "2": "1",
                                    "3": "Niall Langley",
                                    "4": "niall.langley@gmail.com",
                                    "5": "Regular Customer",
                                    "6": "2019-07-04",
                                    "7": "2020-04-30",
                                    "8": "0",
                                    "9": "1606136978",
                                    "10": "2"
                                },
                                {
                                    "0": "7",
                                    "1": "Website",
                                    "2": "1",
                                    "3": "Niall Langley",
                                    "4": "niall.langley@gmail.com",
                                    "5": "Super Customer",
                                    "6": "2020-05-01",
                                    "7": "2020-09-06",
                                    "8": "0",
                                    "9": "1056696475",
                                    "10": "2"
                                },
                                {
                                    "0": "8",
                                    "1": "Website",
                                    "2": "4",
                                    "3": "The Queen",
                                    "4": "lizzy@gov.uk",
                                    "5": "VIP",
                                    "6": "2020-09-07",
                                    "7": "9999-12-31",
                                    "8": "1",
                                    "9": "1766473576",
                                    "10": "5"
                                },
                                {
                                    "0": "9",
                                    "1": "Website",
                                    "2": "3",
                                    "3": "Arthur Dent",
                                    "4": "arthur.dent@somewhereoutthere.com",
                                    "5": "Irregular Orders",
                                    "6": "2020-09-07",
                                    "7": "9999-12-31",
                                    "8": "1",
                                    "9": "1437106049",
                                    "10": "4"
                                },
                                {
                                    "0": "10",
                                    "1": "Website",
                                    "2": "1",
                                    "3": "Niall Langley",
                                    "4": "niall.langley@gmail.com",
                                    "5": "Advocate",
                                    "6": "2020-09-07",
                                    "7": "9999-12-31",
                                    "8": "1",
                                    "9": "-413305737",
                                    "10": "2"
                                }
                            ]
                        },
                        "text/html": "<table><tr><th>CustomerSK</th><th>SourceSystem</th><th>SourceId</th><th>CustomerName</th><th>CustomerEmail</th><th>CustomerCategory</th><th>ValidFromDate</th><th>ValidToDate</th><th>IsCurrentRow</th><th>MergeCheckSum</th><th>CustomerDK</th></tr><tr><td>1</td><td>Trade</td><td>1</td><td>The tea shop</td><td>acounts@theteashop.co.uk</td><td>Trade - Regular</td><td>2018-02-18</td><td>2018-11-11</td><td>0</td><td>1467799504</td><td>1</td></tr><tr><td>2</td><td>Trade</td><td>1</td><td>The tea shop</td><td>acounts@theteashop.co.uk</td><td>Trade - Big Fish</td><td>2018-11-12</td><td>9999-12-31</td><td>1</td><td>-2119939865</td><td>1</td></tr><tr><td>3</td><td>Website</td><td>1</td><td>Niall Langley</td><td>niall.langley@gmail.com</td><td>New Customer</td><td>2019-04-19</td><td>2019-07-03</td><td>0</td><td>878283563</td><td>2</td></tr><tr><td>4</td><td>Website</td><td>2</td><td>Alfred</td><td>alfred@batman.com</td><td>Flavour Dabbler</td><td>2019-04-19</td><td>9999-12-31</td><td>1</td><td>-219148910</td><td>3</td></tr><tr><td>5</td><td>Website</td><td>3</td><td>Arthur Dent</td><td>arthur.dent@somewhereoutthere.com</td><td>Irregular Customer</td><td>2019-04-19</td><td>2020-09-06</td><td>0</td><td>-1177136545</td><td>4</td></tr><tr><td>6</td><td>Website</td><td>1</td><td>Niall Langley</td><td>niall.langley@gmail.com</td><td>Regular Customer</td><td>2019-07-04</td><td>2020-04-30</td><td>0</td><td>1606136978</td><td>2</td></tr><tr><td>7</td><td>Website</td><td>1</td><td>Niall Langley</td><td>niall.langley@gmail.com</td><td>Super Customer</td><td>2020-05-01</td><td>2020-09-06</td><td>0</td><td>1056696475</td><td>2</td></tr><tr><td>8</td><td>Website</td><td>4</td><td>The Queen</td><td>lizzy@gov.uk</td><td>VIP</td><td>2020-09-07</td><td>9999-12-31</td><td>1</td><td>1766473576</td><td>5</td></tr><tr><td>9</td><td>Website</td><td>3</td><td>Arthur Dent</td><td>arthur.dent@somewhereoutthere.com</td><td>Irregular Orders</td><td>2020-09-07</td><td>9999-12-31</td><td>1</td><td>1437106049</td><td>4</td></tr><tr><td>10</td><td>Website</td><td>1</td><td>Niall Langley</td><td>niall.langley@gmail.com</td><td>Advocate</td><td>2020-09-07</td><td>9999-12-31</td><td>1</td><td>-413305737</td><td>2</td></tr></table>"
                    }
                }
            ],
            "execution_count": 24
        },
        {
            "cell_type": "markdown",
            "source": [
                "## 6) Add a view for the current version of the customer, giving a view like a SCD Type 1"
            ],
            "metadata": {
                "azdata_cell_guid": "5d63bca9-adab-411d-afa3-403fdf04ce76"
            }
        },
        {
            "cell_type": "code",
            "source": [
                "DROP VIEW IF EXISTS dim.CustomerCurrent;\n",
                "GO\n",
                "\n",
                "CREATE VIEW dim.CustomerCurrent\n",
                "AS\n",
                "SELECT CustomerDK,\n",
                "       CustomerName AS CurrentCustomerName,\n",
                "       CustomerEmail AS CurrentCustomerEmail,\n",
                "       CustomerCategory AS CurrentCustomerCategory\n",
                "FROM dim.Customer\n",
                "WHERE IsCurrentRow = 1;\n",
                "GO\n",
                "\n",
                "SELECT *\n",
                "FROM dim.CustomerCurrent;"
            ],
            "metadata": {
                "azdata_cell_guid": "0fe79971-e246-45e1-8b9f-bdcda21273ec"
            },
            "outputs": [
                {
                    "output_type": "display_data",
                    "data": {
                        "text/html": "Commands completed successfully."
                    },
                    "metadata": {}
                },
                {
                    "output_type": "display_data",
                    "data": {
                        "text/html": "Commands completed successfully."
                    },
                    "metadata": {}
                },
                {
                    "output_type": "display_data",
                    "data": {
                        "text/html": "(5 rows affected)"
                    },
                    "metadata": {}
                },
                {
                    "output_type": "display_data",
                    "data": {
                        "text/html": "Total execution time: 00:00:00.041"
                    },
                    "metadata": {}
                },
                {
                    "output_type": "execute_result",
                    "metadata": {},
                    "execution_count": 25,
                    "data": {
                        "application/vnd.dataresource+json": {
                            "schema": {
                                "fields": [
                                    {
                                        "name": "CustomerDK"
                                    },
                                    {
                                        "name": "CurrentCustomerName"
                                    },
                                    {
                                        "name": "CurrentCustomerEmail"
                                    },
                                    {
                                        "name": "CurrentCustomerCategory"
                                    }
                                ]
                            },
                            "data": [
                                {
                                    "0": "1",
                                    "1": "The tea shop",
                                    "2": "acounts@theteashop.co.uk",
                                    "3": "Trade - Big Fish"
                                },
                                {
                                    "0": "3",
                                    "1": "Alfred",
                                    "2": "alfred@batman.com",
                                    "3": "Flavour Dabbler"
                                },
                                {
                                    "0": "5",
                                    "1": "The Queen",
                                    "2": "lizzy@gov.uk",
                                    "3": "VIP"
                                },
                                {
                                    "0": "4",
                                    "1": "Arthur Dent",
                                    "2": "arthur.dent@somewhereoutthere.com",
                                    "3": "Irregular Orders"
                                },
                                {
                                    "0": "2",
                                    "1": "Niall Langley",
                                    "2": "niall.langley@gmail.com",
                                    "3": "Advocate"
                                }
                            ]
                        },
                        "text/html": "<table><tr><th>CustomerDK</th><th>CurrentCustomerName</th><th>CurrentCustomerEmail</th><th>CurrentCustomerCategory</th></tr><tr><td>1</td><td>The tea shop</td><td>acounts@theteashop.co.uk</td><td>Trade - Big Fish</td></tr><tr><td>3</td><td>Alfred</td><td>alfred@batman.com</td><td>Flavour Dabbler</td></tr><tr><td>5</td><td>The Queen</td><td>lizzy@gov.uk</td><td>VIP</td></tr><tr><td>4</td><td>Arthur Dent</td><td>arthur.dent@somewhereoutthere.com</td><td>Irregular Orders</td></tr><tr><td>2</td><td>Niall Langley</td><td>niall.langley@gmail.com</td><td>Advocate</td></tr></table>"
                    }
                }
            ],
            "execution_count": 25
        },
        {
            "cell_type": "markdown",
            "source": [
                "## 7) Add the durable key to the fact table, populating it using the existing surrogate key link"
            ],
            "metadata": {
                "azdata_cell_guid": "dbb6d42b-14f5-45bb-abf5-38f172dbbea7"
            }
        },
        {
            "cell_type": "code",
            "source": [
                "SELECT TOP 100 *\n",
                "FROM fact.Sales\n",
                "WHERE CustomerSK > 2\n",
                "      AND OrderDateSK > 20200000\n",
                "\n",
                "ALTER TABLE fact.Sales ADD CustomerDK INT NULL;\n",
                "GO\n",
                "\n",
                "UPDATE s\n",
                "SET CustomerDK = c.CustomerDK\n",
                "FROM fact.Sales AS s\n",
                "INNER JOIN dim.Customer AS c\n",
                "  ON c.CustomerSK = s.CustomerSK;\n",
                "GO\n",
                "\n",
                "ALTER TABLE fact.Sales ALTER COLUMN CustomerDK INT NOT NULL;\n",
                "GO\n",
                "\n",
                "SELECT TOP 100 *\n",
                "FROM fact.Sales\n",
                "WHERE CustomerSK > 2\n",
                "      AND OrderDateSK > 20200000\n",
                ""
            ],
            "metadata": {
                "azdata_cell_guid": "ecd49517-96cb-4e34-a305-3b39daca872f"
            },
            "outputs": [
                {
                    "output_type": "display_data",
                    "data": {
                        "text/html": "(6 rows affected)"
                    },
                    "metadata": {}
                },
                {
                    "output_type": "display_data",
                    "data": {
                        "text/html": "(192 rows affected)"
                    },
                    "metadata": {}
                },
                {
                    "output_type": "execute_result",
                    "metadata": {},
                    "execution_count": 26,
                    "data": {
                        "application/vnd.dataresource+json": {
                            "schema": {
                                "fields": [
                                    {
                                        "name": "CustomerSK"
                                    },
                                    {
                                        "name": "ProductSK"
                                    },
                                    {
                                        "name": "OrderDateSK"
                                    },
                                    {
                                        "name": "ShipDateSK"
                                    },
                                    {
                                        "name": "OrderId"
                                    },
                                    {
                                        "name": "OrderLineId"
                                    },
                                    {
                                        "name": "Quantity"
                                    },
                                    {
                                        "name": "PricePaidPerUnit"
                                    }
                                ]
                            },
                            "data": [
                                {
                                    "0": "5",
                                    "1": "3",
                                    "2": "20200502",
                                    "3": "20200502",
                                    "4": "187",
                                    "5": "1",
                                    "6": "1",
                                    "7": "3.9900"
                                },
                                {
                                    "0": "5",
                                    "1": "13",
                                    "2": "20200829",
                                    "3": "20200831",
                                    "4": "214",
                                    "5": "1",
                                    "6": "1",
                                    "7": "3.5900"
                                },
                                {
                                    "0": "6",
                                    "1": "1",
                                    "2": "20200215",
                                    "3": "20200217",
                                    "4": "168",
                                    "5": "1",
                                    "6": "1",
                                    "7": "10.3900"
                                },
                                {
                                    "0": "6",
                                    "1": "1",
                                    "2": "20200331",
                                    "3": "20200402",
                                    "4": "178",
                                    "5": "1",
                                    "6": "1",
                                    "7": "11.6900"
                                },
                                {
                                    "0": "7",
                                    "1": "1",
                                    "2": "20200516",
                                    "3": "20200518",
                                    "4": "191",
                                    "5": "1",
                                    "6": "1",
                                    "7": "11.6900"
                                },
                                {
                                    "0": "7",
                                    "1": "10",
                                    "2": "20200701",
                                    "3": "20200702",
                                    "4": "199",
                                    "5": "1",
                                    "6": "1",
                                    "7": "12.9900"
                                }
                            ]
                        },
                        "text/html": "<table><tr><th>CustomerSK</th><th>ProductSK</th><th>OrderDateSK</th><th>ShipDateSK</th><th>OrderId</th><th>OrderLineId</th><th>Quantity</th><th>PricePaidPerUnit</th></tr><tr><td>5</td><td>3</td><td>20200502</td><td>20200502</td><td>187</td><td>1</td><td>1</td><td>3.9900</td></tr><tr><td>5</td><td>13</td><td>20200829</td><td>20200831</td><td>214</td><td>1</td><td>1</td><td>3.5900</td></tr><tr><td>6</td><td>1</td><td>20200215</td><td>20200217</td><td>168</td><td>1</td><td>1</td><td>10.3900</td></tr><tr><td>6</td><td>1</td><td>20200331</td><td>20200402</td><td>178</td><td>1</td><td>1</td><td>11.6900</td></tr><tr><td>7</td><td>1</td><td>20200516</td><td>20200518</td><td>191</td><td>1</td><td>1</td><td>11.6900</td></tr><tr><td>7</td><td>10</td><td>20200701</td><td>20200702</td><td>199</td><td>1</td><td>1</td><td>12.9900</td></tr></table>"
                    }
                },
                {
                    "output_type": "display_data",
                    "data": {
                        "text/html": "Commands completed successfully."
                    },
                    "metadata": {}
                },
                {
                    "output_type": "display_data",
                    "data": {
                        "text/html": "(6 rows affected)"
                    },
                    "metadata": {}
                },
                {
                    "output_type": "display_data",
                    "data": {
                        "text/html": "Total execution time: 00:00:00.221"
                    },
                    "metadata": {}
                },
                {
                    "output_type": "execute_result",
                    "metadata": {},
                    "execution_count": 26,
                    "data": {
                        "application/vnd.dataresource+json": {
                            "schema": {
                                "fields": [
                                    {
                                        "name": "CustomerSK"
                                    },
                                    {
                                        "name": "ProductSK"
                                    },
                                    {
                                        "name": "OrderDateSK"
                                    },
                                    {
                                        "name": "ShipDateSK"
                                    },
                                    {
                                        "name": "OrderId"
                                    },
                                    {
                                        "name": "OrderLineId"
                                    },
                                    {
                                        "name": "Quantity"
                                    },
                                    {
                                        "name": "PricePaidPerUnit"
                                    },
                                    {
                                        "name": "CustomerDK"
                                    }
                                ]
                            },
                            "data": [
                                {
                                    "0": "5",
                                    "1": "3",
                                    "2": "20200502",
                                    "3": "20200502",
                                    "4": "187",
                                    "5": "1",
                                    "6": "1",
                                    "7": "3.9900",
                                    "8": "4"
                                },
                                {
                                    "0": "5",
                                    "1": "13",
                                    "2": "20200829",
                                    "3": "20200831",
                                    "4": "214",
                                    "5": "1",
                                    "6": "1",
                                    "7": "3.5900",
                                    "8": "4"
                                },
                                {
                                    "0": "6",
                                    "1": "1",
                                    "2": "20200215",
                                    "3": "20200217",
                                    "4": "168",
                                    "5": "1",
                                    "6": "1",
                                    "7": "10.3900",
                                    "8": "2"
                                },
                                {
                                    "0": "6",
                                    "1": "1",
                                    "2": "20200331",
                                    "3": "20200402",
                                    "4": "178",
                                    "5": "1",
                                    "6": "1",
                                    "7": "11.6900",
                                    "8": "2"
                                },
                                {
                                    "0": "7",
                                    "1": "1",
                                    "2": "20200516",
                                    "3": "20200518",
                                    "4": "191",
                                    "5": "1",
                                    "6": "1",
                                    "7": "11.6900",
                                    "8": "2"
                                },
                                {
                                    "0": "7",
                                    "1": "10",
                                    "2": "20200701",
                                    "3": "20200702",
                                    "4": "199",
                                    "5": "1",
                                    "6": "1",
                                    "7": "12.9900",
                                    "8": "2"
                                }
                            ]
                        },
                        "text/html": "<table><tr><th>CustomerSK</th><th>ProductSK</th><th>OrderDateSK</th><th>ShipDateSK</th><th>OrderId</th><th>OrderLineId</th><th>Quantity</th><th>PricePaidPerUnit</th><th>CustomerDK</th></tr><tr><td>5</td><td>3</td><td>20200502</td><td>20200502</td><td>187</td><td>1</td><td>1</td><td>3.9900</td><td>4</td></tr><tr><td>5</td><td>13</td><td>20200829</td><td>20200831</td><td>214</td><td>1</td><td>1</td><td>3.5900</td><td>4</td></tr><tr><td>6</td><td>1</td><td>20200215</td><td>20200217</td><td>168</td><td>1</td><td>1</td><td>10.3900</td><td>2</td></tr><tr><td>6</td><td>1</td><td>20200331</td><td>20200402</td><td>178</td><td>1</td><td>1</td><td>11.6900</td><td>2</td></tr><tr><td>7</td><td>1</td><td>20200516</td><td>20200518</td><td>191</td><td>1</td><td>1</td><td>11.6900</td><td>2</td></tr><tr><td>7</td><td>10</td><td>20200701</td><td>20200702</td><td>199</td><td>1</td><td>1</td><td>12.9900</td><td>2</td></tr></table>"
                    }
                }
            ],
            "execution_count": 26
        }
    ]
}