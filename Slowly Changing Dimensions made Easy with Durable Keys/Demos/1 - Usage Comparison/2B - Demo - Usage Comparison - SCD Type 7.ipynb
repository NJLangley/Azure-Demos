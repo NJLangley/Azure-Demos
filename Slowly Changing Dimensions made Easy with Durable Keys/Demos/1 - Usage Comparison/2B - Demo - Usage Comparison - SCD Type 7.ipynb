{
    "metadata": {
        "kernelspec": {
            "name": "SQL",
            "display_name": "SQL",
            "language": "sql"
        },
        "language_info": {
            "name": "sql",
            "version": ""
        }
    },
    "nbformat_minor": 2,
    "nbformat": 4,
    "cells": [
        {
            "cell_type": "markdown",
            "source": [
                "# Slowly Changing Dimensions made Easy with Durable Keys - Demo 1B: Usage Comparison - SCD Type 7\n",
                "\n",
                "This series of demo's walks through how we can add a durable key to an existing dimension, how we adjust our merge statements to keep it up to date, and how we add that durable key into the fact table to allow easy As-posted, As-is and As-was queries.\n",
                "\n",
                "- As-is – Shows data using current structure\n",
                "- As-posted – Shows data using the “historical truth”, eg. the structure at the time that data point happened\n",
                "- As-of – Shows data using structure at point in time, eg. 1st Jan 2020\n",
                "\n",
                "\n",
                "***Note***: *None of the tables are indexed as they are so small, index as appropriate in your systems!*\n",
                "\n",
                "## This Notebook contains the queries to compare queries with and without durable keys. This notebook has the queries without durable queries, and can be compared split screen with the notebook '/Demos/Demo 1A- Usage Comparison - SCD Type 2.ipynb'"
            ],
            "metadata": {
                "azdata_cell_guid": "5e50510a-9ee8-476f-a5c5-60442a1ffbb8"
            }
        },
        {
            "cell_type": "code",
            "source": [
                "-- If the Db got rebuilt, the connection is reset, and this will error without breaking the rest of the notebook!\n",
                "USE DurableKeyDemo\n",
                "GO"
            ],
            "metadata": {
                "azdata_cell_guid": "2fb80b63-f26d-43c8-ab70-7b4ffc7d9395"
            },
            "outputs": [],
            "execution_count": 1
        },
        {
            "cell_type": "markdown",
            "source": [
                "## Set the scene\n",
                "This query aggregates sales using Product and Customer categories. However, these have changed in the course of 2020, so looking at the as-posted view breaks the data out into a bunch of catagories that overlap."
            ],
            "metadata": {
                "azdata_cell_guid": "82eb4edc-1ac9-4dd4-8659-05871f632bbd"
            }
        },
        {
            "cell_type": "code",
            "source": [
                "USE DurableKeyDemo\n",
                "GO\n",
                "\n",
                "SELECT ISNULL(ch.CustomerCategory, 'Total') AS CustomerCategory,\n",
                "       ISNULL(ph.ProductCategory, 'Total') AS ProductCategory,\n",
                "       SUM(s.Quantity * s.PricePaidPerUnit) AS SalesTotal,\n",
                "       SUM(s.Quantity * (ph.ProductPrice - s.PricePaidPerUnit)) AS DiscountTotalAmount\n",
                "FROM fact.Sales AS s\n",
                "INNER JOIN dim.Calendar AS od\n",
                "  ON od.CalendarSK = OrderDateSK\n",
                "INNER JOIN dim.Product AS ph\n",
                "  ON ph.ProductSK = s.ProductSK\n",
                "INNER JOIN dim.Customer AS ch\n",
                "  ON ch.CustomerSK = s.CustomerSK\n",
                "WHERE od.CalendarYear = 2020\n",
                "GROUP BY ch.CustomerCategory, ph.ProductCategory\n",
                "  WITH ROLLUP\n",
                "ORDER BY GROUPING(ch.CustomerCategory), ch.CustomerCategory, GROUPING(ph.ProductCategory), ph.ProductCategory\n",
                ""
            ],
            "metadata": {
                "azdata_cell_guid": "e6dd98bf-d9c6-49e5-a8ab-58b4052167d4"
            },
            "outputs": [],
            "execution_count": 5
        },
        {
            "cell_type": "markdown",
            "source": [
                "## Comparison Query 1\n",
                "This query aggregates the tea sales by Customer and Product categories. In order to get the As-is Cstomer and Product categories, we have joined to the views for the current records using the durable key. This removes the joins using the business keys and simplifies the query, removing 1 join. For real world queries this can remove a number of joins\n",
                "\n",
                "For the products we also need the as-posted price information, so we join to the Product dimnesion using the surrogate key.\n",
                "\n",
                ""
            ],
            "metadata": {
                "azdata_cell_guid": "056df220-37f4-4b3d-b85c-72fb6659d7d6"
            }
        },
        {
            "cell_type": "code",
            "source": [
                "USE DurableKeyDemo\n",
                "\n",
                "SELECT ISNULL(cc.CurrentCustomerCategory, 'Total') AS CurrentCustomerCategory,\n",
                "       ISNULL(pc.CurrentProductCategory, 'Total') AS CurrentProductCategory,\n",
                "       SUM(s.Quantity * s.PricePaidPerUnit) AS SalesTotal,\n",
                "       SUM(s.Quantity * (ph.ProductPrice - s.PricePaidPerUnit)) AS DiscountTotalAmount\n",
                "FROM fact.Sales AS s\n",
                "INNER JOIN dim.Calendar AS od\n",
                "  ON od.CalendarSK = OrderDateSK\n",
                "\n",
                "-- Join to Product for the hisorical As-posted price\n",
                "INNER JOIN dim.Product AS ph\n",
                "  ON ph.ProductSK = s.ProductSK\n",
                "\n",
                "-- Join to ProductCurrent for the current As-is category\n",
                "INNER JOIN dim.ProductCurrent AS pc\n",
                "  ON pc.ProductDK = s.ProductDK\n",
                "\n",
                "\n",
                "-- Join to CustomerCurrent for the current As-is data\n",
                "INNER JOIN dim.CustomerCurrent AS cc\n",
                "  ON cc.CustomerDK = s.CustomerDK\n",
                "\n",
                "\n",
                "\n",
                "\n",
                "\n",
                "\n",
                "WHERE od.CalendarYear = 2020\n",
                "GROUP BY cc.CurrentCustomerCategory, pc.CurrentProductCategory\n",
                "  WITH ROLLUP\n",
                "ORDER BY GROUPING(cc.CurrentCustomerCategory), cc.CurrentCustomerCategory, GROUPING(pc.CurrentProductCategory), pc.CurrentProductCategory\n",
                ""
            ],
            "metadata": {
                "azdata_cell_guid": "eabfb638-85bd-4e8a-b6b8-512c7a853883"
            },
            "outputs": [
                {
                    "output_type": "display_data",
                    "data": {
                        "text/html": "(9 rows affected)"
                    },
                    "metadata": {}
                },
                {
                    "output_type": "display_data",
                    "data": {
                        "text/html": "Total execution time: 00:00:00.020"
                    },
                    "metadata": {}
                },
                {
                    "output_type": "execute_result",
                    "metadata": {},
                    "execution_count": 4,
                    "data": {
                        "application/vnd.dataresource+json": {
                            "schema": {
                                "fields": [
                                    {
                                        "name": "CurrentCustomerCategory"
                                    },
                                    {
                                        "name": "CurrentProductCategory"
                                    },
                                    {
                                        "name": "SalesTotal"
                                    },
                                    {
                                        "name": "DiscountTotalAmount"
                                    }
                                ]
                            },
                            "data": [
                                {
                                    "0": "Advocate",
                                    "1": "Loose Leaf Tea",
                                    "2": "65.9500",
                                    "3": "0.0000"
                                },
                                {
                                    "0": "Advocate",
                                    "1": "Teabags",
                                    "2": "4.4900",
                                    "3": "0.5000"
                                },
                                {
                                    "0": "Advocate",
                                    "1": "Total",
                                    "2": "70.4400",
                                    "3": "0.5000"
                                },
                                {
                                    "0": "Irregular Customer",
                                    "1": "Teabags",
                                    "2": "3.5900",
                                    "3": "0.9000"
                                },
                                {
                                    "0": "Irregular Customer",
                                    "1": "Total",
                                    "2": "3.5900",
                                    "3": "0.9000"
                                },
                                {
                                    "0": "Trade - Big Fish",
                                    "1": "Loose Leaf Tea",
                                    "2": "6461.9700",
                                    "3": "356.8000"
                                },
                                {
                                    "0": "Trade - Big Fish",
                                    "1": "Teabags",
                                    "2": "66.8600",
                                    "3": "3.5000"
                                },
                                {
                                    "0": "Trade - Big Fish",
                                    "1": "Total",
                                    "2": "6528.8300",
                                    "3": "360.3000"
                                },
                                {
                                    "0": "Total",
                                    "1": "Total",
                                    "2": "6602.8600",
                                    "3": "361.7000"
                                }
                            ]
                        },
                        "text/html": "<table><tr><th>CurrentCustomerCategory</th><th>CurrentProductCategory</th><th>SalesTotal</th><th>DiscountTotalAmount</th></tr><tr><td>Advocate</td><td>Loose Leaf Tea</td><td>65.9500</td><td>0.0000</td></tr><tr><td>Advocate</td><td>Teabags</td><td>4.4900</td><td>0.5000</td></tr><tr><td>Advocate</td><td>Total</td><td>70.4400</td><td>0.5000</td></tr><tr><td>Irregular Customer</td><td>Teabags</td><td>3.5900</td><td>0.9000</td></tr><tr><td>Irregular Customer</td><td>Total</td><td>3.5900</td><td>0.9000</td></tr><tr><td>Trade - Big Fish</td><td>Loose Leaf Tea</td><td>6461.9700</td><td>356.8000</td></tr><tr><td>Trade - Big Fish</td><td>Teabags</td><td>66.8600</td><td>3.5000</td></tr><tr><td>Trade - Big Fish</td><td>Total</td><td>6528.8300</td><td>360.3000</td></tr><tr><td>Total</td><td>Total</td><td>6602.8600</td><td>361.7000</td></tr></table>"
                    }
                }
            ],
            "execution_count": 4
        },
        {
            "cell_type": "markdown",
            "source": [
                "## Comparison Query 2\n",
                "This query is the same as above, but instead of using the current version of the dimensions we get them as-was the end of May 2020. The joins now filter for the dimensional record that was valid at that time.\n",
                "\n",
                "The query is simplified, joining to the dimensions directly with the durable key and filtering to the date range required, without the self join."
            ],
            "metadata": {
                "azdata_cell_guid": "a2cca1d4-bf00-495f-b434-1c7fff1e9a54"
            }
        },
        {
            "cell_type": "code",
            "source": [
                "USE DurableKeyDemo\n",
                "\n",
                "SELECT ISNULL(cc.CustomerCategory, 'Total') AS MayCustomerCategory,\n",
                "       ISNULL(pc.ProductCategory, 'Total') AS MayProductCategory,\n",
                "       SUM(s.Quantity * s.PricePaidPerUnit) AS SalesTotal,\n",
                "       SUM(s.Quantity * (ph.ProductPrice - s.PricePaidPerUnit)) AS DiscountTotalAmount\n",
                "FROM fact.Sales AS s\n",
                "INNER JOIN dim.Calendar AS od\n",
                "  ON od.CalendarSK = OrderDateSK\n",
                "\n",
                "-- Join to Product for the hisorical As-posted price\n",
                "INNER JOIN dim.Product AS ph\n",
                "  ON ph.ProductSK = s.ProductSK\n",
                "\n",
                "-- Join to ProductCurrent for the current As-is category\n",
                "INNER JOIN dim.Product AS pc\n",
                "  ON pc.ProductDK = s.ProductDK\n",
                "     AND '20200531' BETWEEN pc.ValidFromDate and pc.ValidToDate\n",
                "\n",
                "\n",
                "-- Join to CustomerCurrent for the current As-is data\n",
                "INNER JOIN dim.Customer AS cc\n",
                "  ON cc.CustomerDK = s.CustomerDK\n",
                "     AND '20200531' BETWEEN cc.ValidFromDate and cc.ValidToDate\n",
                "\n",
                "\n",
                "\n",
                "\n",
                "WHERE od.CalendarYear = 2020\n",
                "GROUP BY cc.CustomerCategory, pc.ProductCategory\n",
                "  WITH ROLLUP\n",
                "ORDER BY GROUPING(cc.CustomerCategory), cc.CustomerCategory, GROUPING(pc.ProductCategory), pc.ProductCategory\n",
                ""
            ],
            "metadata": {
                "azdata_cell_guid": "2c7780fa-31f6-4cf2-9616-ddcb18b71443"
            },
            "outputs": [
                {
                    "output_type": "display_data",
                    "data": {
                        "text/html": "(7 rows affected)"
                    },
                    "metadata": {}
                },
                {
                    "output_type": "display_data",
                    "data": {
                        "text/html": "Total execution time: 00:00:00.021"
                    },
                    "metadata": {}
                },
                {
                    "output_type": "execute_result",
                    "metadata": {},
                    "execution_count": 5,
                    "data": {
                        "application/vnd.dataresource+json": {
                            "schema": {
                                "fields": [
                                    {
                                        "name": "MayCustomerCategory"
                                    },
                                    {
                                        "name": "MayProductCategory"
                                    },
                                    {
                                        "name": "SalesTotal"
                                    },
                                    {
                                        "name": "DiscountTotalAmount"
                                    }
                                ]
                            },
                            "data": [
                                {
                                    "0": "Irregular Customer",
                                    "1": "Tea",
                                    "2": "3.5900",
                                    "3": "0.9000"
                                },
                                {
                                    "0": "Irregular Customer",
                                    "1": "Total",
                                    "2": "3.5900",
                                    "3": "0.9000"
                                },
                                {
                                    "0": "Super Customer",
                                    "1": "Tea",
                                    "2": "70.4400",
                                    "3": "0.5000"
                                },
                                {
                                    "0": "Super Customer",
                                    "1": "Total",
                                    "2": "70.4400",
                                    "3": "0.5000"
                                },
                                {
                                    "0": "Trade - Big Fish",
                                    "1": "Tea",
                                    "2": "6528.8300",
                                    "3": "360.3000"
                                },
                                {
                                    "0": "Trade - Big Fish",
                                    "1": "Total",
                                    "2": "6528.8300",
                                    "3": "360.3000"
                                },
                                {
                                    "0": "Total",
                                    "1": "Total",
                                    "2": "6602.8600",
                                    "3": "361.7000"
                                }
                            ]
                        },
                        "text/html": "<table><tr><th>MayCustomerCategory</th><th>MayProductCategory</th><th>SalesTotal</th><th>DiscountTotalAmount</th></tr><tr><td>Irregular Customer</td><td>Tea</td><td>3.5900</td><td>0.9000</td></tr><tr><td>Irregular Customer</td><td>Total</td><td>3.5900</td><td>0.9000</td></tr><tr><td>Super Customer</td><td>Tea</td><td>70.4400</td><td>0.5000</td></tr><tr><td>Super Customer</td><td>Total</td><td>70.4400</td><td>0.5000</td></tr><tr><td>Trade - Big Fish</td><td>Tea</td><td>6528.8300</td><td>360.3000</td></tr><tr><td>Trade - Big Fish</td><td>Total</td><td>6528.8300</td><td>360.3000</td></tr><tr><td>Total</td><td>Total</td><td>6602.8600</td><td>361.7000</td></tr></table>"
                    }
                }
            ],
            "execution_count": 5
        }
    ]
}